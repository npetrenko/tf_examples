{
 "cells": [
  {
   "cell_type": "code",
   "execution_count": 1,
   "metadata": {},
   "outputs": [],
   "source": [
    "import tensorflow as tf\n",
    "import numpy as np\n",
    "from matplotlib import pyplot as plt\n",
    "\n",
    "%matplotlib inline"
   ]
  },
  {
   "cell_type": "code",
   "execution_count": 2,
   "metadata": {},
   "outputs": [],
   "source": [
    "n = 5000\n",
    "\n",
    "#set up synthetic data\n",
    "X = np.random.normal(size=[n, 3])\n",
    "y = X[:,0] + 2*X[:,1] + 3*X[:,2] + np.random.normal(size=[n])/3\n",
    "y = y[:,np.newaxis]\n",
    "\n",
    "X_val, y_val = X[-100:], y[-100:]\n",
    "X, y = X[:-100], y[:-100]"
   ]
  },
  {
   "cell_type": "code",
   "execution_count": 3,
   "metadata": {},
   "outputs": [
    {
     "data": {
      "text/plain": [
       "((4900, 3), (4900, 1))"
      ]
     },
     "execution_count": 3,
     "metadata": {},
     "output_type": "execute_result"
    }
   ],
   "source": [
    "X.shape, y.shape"
   ]
  },
  {
   "cell_type": "code",
   "execution_count": 4,
   "metadata": {},
   "outputs": [],
   "source": [
    "#build tensorflow model\n",
    "\n",
    "X_ph = tf.placeholder(tf.float32) # we will put data here\n",
    "y_ph = tf.placeholder(tf.float32) # and here\n",
    "\n",
    "W = tf.Variable(tf.random_normal([3,1]), name='weight') # define model parameters and their initialization\n",
    "\n",
    "y_hat = tf.matmul(X_ph, W) # prediction\n",
    "\n",
    "loss = tf.reduce_mean( (y_hat - y_ph)**2 )"
   ]
  },
  {
   "cell_type": "code",
   "execution_count": 5,
   "metadata": {},
   "outputs": [],
   "source": [
    "train_op = tf.train.GradientDescentOptimizer(learning_rate=0.01).minimize(loss) # compute gradients and apply them"
   ]
  },
  {
   "cell_type": "code",
   "execution_count": 6,
   "metadata": {},
   "outputs": [],
   "source": [
    "sess = tf.Session() # create model variable manager"
   ]
  },
  {
   "cell_type": "code",
   "execution_count": 7,
   "metadata": {},
   "outputs": [],
   "source": [
    "initializer = tf.global_variables_initializer() # create parameter initializer"
   ]
  },
  {
   "cell_type": "code",
   "execution_count": 8,
   "metadata": {},
   "outputs": [],
   "source": [
    "sess.run(initializer) # initialize model variables"
   ]
  },
  {
   "cell_type": "code",
   "execution_count": 9,
   "metadata": {},
   "outputs": [],
   "source": [
    "train_op = [loss, train_op]"
   ]
  },
  {
   "cell_type": "code",
   "execution_count": 10,
   "metadata": {},
   "outputs": [],
   "source": [
    "def run_train(X, y):\n",
    "    return sess.run(train_op, feed_dict={X_ph:X, y_ph:y})[0] #run train_op and return loss"
   ]
  },
  {
   "cell_type": "code",
   "execution_count": 11,
   "metadata": {},
   "outputs": [],
   "source": [
    "ix = np.arange(len(X))\n",
    "losses_train = []\n",
    "losses_val = []\n",
    "\n",
    "with sess.as_default():\n",
    "    for _ in range(200):\n",
    "        sample = np.random.choice(ix, size=100, replace=True) #sample 100 random data points\n",
    "        X_, y_ = X[sample], y[sample]\n",
    "        \n",
    "        #track train and validation losses:\n",
    "        losses_train.append(run_train(X_, y_))\n",
    "        \n",
    "        losses_val.append(loss.eval(feed_dict={X_ph: X_val, y_ph: y_val}))"
   ]
  },
  {
   "cell_type": "code",
   "execution_count": 12,
   "metadata": {},
   "outputs": [
    {
     "data": {
      "text/plain": [
       "[<matplotlib.lines.Line2D at 0x7f50f7a8c7f0>]"
      ]
     },
     "execution_count": 12,
     "metadata": {},
     "output_type": "execute_result"
    },
    {
     "data": {
      "image/png": "[encoded data removed]",
      "text/plain": [
       "<matplotlib.figure.Figure at 0x7f50d04e87b8>"
      ]
     },
     "metadata": {},
     "output_type": "display_data"
    }
   ],
   "source": [
    "plt.plot(range(len(losses_train)), losses_train)\n",
    "plt.plot(range(len(losses_val)), losses_val)"
   ]
  },
  {
   "cell_type": "code",
   "execution_count": 13,
   "metadata": {},
   "outputs": [
    {
     "name": "stdout",
     "output_type": "stream",
     "text": [
      "[[ 0.96856284]\n",
      " [ 1.9541111 ]\n",
      " [ 2.95948386]]\n"
     ]
    }
   ],
   "source": [
    "with sess.as_default():\n",
    "    print(W.eval())"
   ]
  },
  {
   "cell_type": "code",
   "execution_count": null,
   "metadata": {},
   "outputs": [],
   "source": []
  }
 ],
 "metadata": {
  "kernelspec": {
   "display_name": "py3.6",
   "language": "python",
   "name": "py3.6"
  },
  "language_info": {
   "codemirror_mode": {
    "name": "ipython",
    "version": 3
   },
   "file_extension": ".py",
   "mimetype": "text/x-python",
   "name": "python",
   "nbconvert_exporter": "python",
   "pygments_lexer": "ipython3",
   "version": "3.6.2"
  }
 },
 "nbformat": 4,
 "nbformat_minor": 2
}
